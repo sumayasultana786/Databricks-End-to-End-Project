{
 "cells": [
  {
   "cell_type": "code",
   "execution_count": 0,
   "metadata": {
    "application/vnd.databricks.v1+cell": {
     "cellMetadata": {
      "byteLimit": 2048000,
      "rowLimit": 10000
     },
     "inputWidgets": {},
     "nuid": "4f1427cf-c883-4c56-8640-5e27adfb2600",
     "showTitle": false,
     "title": ""
    }
   },
   "outputs": [],
   "source": [
    "from pyspark.sql import DataFrameWriter\n",
    "import pandas as pd\n",
    "from pyspark.sql.functions import *"
   ]
  },
  {
   "cell_type": "code",
   "execution_count": 0,
   "metadata": {
    "application/vnd.databricks.v1+cell": {
     "cellMetadata": {
      "byteLimit": 2048000,
      "rowLimit": 10000
     },
     "inputWidgets": {},
     "nuid": "1c760658-c286-44ad-a590-3849a435e767",
     "showTitle": false,
     "title": ""
    }
   },
   "outputs": [
    {
     "output_type": "execute_result",
     "data": {
      "text/plain": [
       "[SecretScope(name='scope31dec')]"
      ]
     },
     "execution_count": 2,
     "metadata": {},
     "output_type": "execute_result"
    }
   ],
   "source": [
    "dbutils.secrets.listScopes()"
   ]
  },
  {
   "cell_type": "code",
   "execution_count": 0,
   "metadata": {
    "application/vnd.databricks.v1+cell": {
     "cellMetadata": {
      "byteLimit": 2048000,
      "rowLimit": 10000
     },
     "inputWidgets": {},
     "nuid": "adf6d9db-75f8-4061-88b8-9df4e241e499",
     "showTitle": false,
     "title": ""
    }
   },
   "outputs": [
    {
     "output_type": "execute_result",
     "data": {
      "text/plain": [
       "[SecretMetadata(key='blobkeysecret31dec')]"
      ]
     },
     "execution_count": 3,
     "metadata": {},
     "output_type": "execute_result"
    }
   ],
   "source": [
    "dbutils.secrets.list(scope = 'scope31dec')"
   ]
  },
  {
   "cell_type": "code",
   "execution_count": 0,
   "metadata": {
    "application/vnd.databricks.v1+cell": {
     "cellMetadata": {
      "byteLimit": 2048000,
      "rowLimit": 10000
     },
     "inputWidgets": {},
     "nuid": "c4595501-cadd-48c2-bfa0-31dc67b02951",
     "showTitle": false,
     "title": ""
    }
   },
   "outputs": [],
   "source": [
    "spark.conf.set(\"fs.azure.account.key.healthcareblob31dec.dfs.core.windows.net\",\n",
    "    dbutils.secrets.get(scope=\"scope31dec\", key=\"blobkeysecret31dec\"))"
   ]
  },
  {
   "cell_type": "code",
   "execution_count": 0,
   "metadata": {
    "application/vnd.databricks.v1+cell": {
     "cellMetadata": {
      "byteLimit": 2048000,
      "rowLimit": 10000
     },
     "inputWidgets": {},
     "nuid": "eb4855ed-28a9-42e0-9bba-75ab0f63b134",
     "showTitle": false,
     "title": ""
    }
   },
   "outputs": [
    {
     "output_type": "display_data",
     "data": {
      "text/html": [
       "<style scoped>\n",
       "  .table-result-container {\n",
       "    max-height: 300px;\n",
       "    overflow: auto;\n",
       "  }\n",
       "  table, th, td {\n",
       "    border: 1px solid black;\n",
       "    border-collapse: collapse;\n",
       "  }\n",
       "  th, td {\n",
       "    padding: 5px;\n",
       "  }\n",
       "  th {\n",
       "    text-align: left;\n",
       "  }\n",
       "</style><div class='table-result-container'><table class='table-result'><thead style='background-color: white'><tr><th>path</th><th>name</th><th>size</th><th>modificationTime</th></tr></thead><tbody><tr><td>abfss://rawdata@healthcareblob31dec.dfs.core.windows.net/Patient_records.csv</td><td>Patient_records.csv</td><td>5110</td><td>1704010961000</td></tr><tr><td>abfss://rawdata@healthcareblob31dec.dfs.core.windows.net/disease.csv</td><td>disease.csv</td><td>1489</td><td>1704010960000</td></tr><tr><td>abfss://rawdata@healthcareblob31dec.dfs.core.windows.net/group.csv</td><td>group.csv</td><td>4390</td><td>1704010960000</td></tr><tr><td>abfss://rawdata@healthcareblob31dec.dfs.core.windows.net/hospital.csv</td><td>hospital.csv</td><td>1328</td><td>1704010960000</td></tr><tr><td>abfss://rawdata@healthcareblob31dec.dfs.core.windows.net/subgroup.csv</td><td>subgroup.csv</td><td>561</td><td>1704010960000</td></tr><tr><td>abfss://rawdata@healthcareblob31dec.dfs.core.windows.net/subscriber.csv</td><td>subscriber.csv</td><td>12061</td><td>1704010960000</td></tr></tbody></table></div>"
      ]
     },
     "metadata": {
      "application/vnd.databricks.v1+output": {
       "addedWidgets": {},
       "aggData": [],
       "aggError": "",
       "aggOverflow": false,
       "aggSchema": [],
       "aggSeriesLimitReached": false,
       "aggType": "",
       "arguments": {},
       "columnCustomDisplayInfos": {},
       "data": [
        [
         "abfss://rawdata@healthcareblob31dec.dfs.core.windows.net/Patient_records.csv",
         "Patient_records.csv",
         5110,
         1704010961000
        ],
        [
         "abfss://rawdata@healthcareblob31dec.dfs.core.windows.net/disease.csv",
         "disease.csv",
         1489,
         1704010960000
        ],
        [
         "abfss://rawdata@healthcareblob31dec.dfs.core.windows.net/group.csv",
         "group.csv",
         4390,
         1704010960000
        ],
        [
         "abfss://rawdata@healthcareblob31dec.dfs.core.windows.net/hospital.csv",
         "hospital.csv",
         1328,
         1704010960000
        ],
        [
         "abfss://rawdata@healthcareblob31dec.dfs.core.windows.net/subgroup.csv",
         "subgroup.csv",
         561,
         1704010960000
        ],
        [
         "abfss://rawdata@healthcareblob31dec.dfs.core.windows.net/subscriber.csv",
         "subscriber.csv",
         12061,
         1704010960000
        ]
       ],
       "datasetInfos": [],
       "dbfsResultPath": null,
       "isJsonSchema": true,
       "metadata": {},
       "overflow": false,
       "plotOptions": {
        "customPlotOptions": {},
        "displayType": "table",
        "pivotAggregation": null,
        "pivotColumns": null,
        "xColumns": null,
        "yColumns": null
       },
       "removedWidgets": [],
       "schema": [
        {
         "metadata": "{}",
         "name": "path",
         "type": "\"string\""
        },
        {
         "metadata": "{}",
         "name": "name",
         "type": "\"string\""
        },
        {
         "metadata": "{}",
         "name": "size",
         "type": "\"long\""
        },
        {
         "metadata": "{}",
         "name": "modificationTime",
         "type": "\"long\""
        }
       ],
       "type": "table"
      }
     },
     "output_type": "display_data"
    }
   ],
   "source": [
    "display(dbutils.fs.ls(\"abfss://rawdata@healthcareblob31dec.dfs.core.windows.net\"))"
   ]
  },
  {
   "cell_type": "code",
   "execution_count": 0,
   "metadata": {
    "application/vnd.databricks.v1+cell": {
     "cellMetadata": {
      "byteLimit": 2048000,
      "rowLimit": 10000
     },
     "inputWidgets": {},
     "nuid": "adb7df2c-b761-4543-9d4a-3e5704a73d48",
     "showTitle": false,
     "title": ""
    }
   },
   "outputs": [],
   "source": [
    "group_data = spark.read.csv(\"abfss://rawdata@healthcareblob31dec.dfs.core.windows.net/group.csv\", header = True, inferSchema= True)"
   ]
  },
  {
   "cell_type": "code",
   "execution_count": 0,
   "metadata": {
    "application/vnd.databricks.v1+cell": {
     "cellMetadata": {
      "byteLimit": 2048000,
      "rowLimit": 10000
     },
     "inputWidgets": {},
     "nuid": "1f3e046a-19b4-4007-9f7a-64bc08de3632",
     "showTitle": false,
     "title": ""
    }
   },
   "outputs": [
    {
     "output_type": "stream",
     "name": "stdout",
     "output_type": "stream",
     "text": [
      "+-------+---------------+--------+------+----------------------------------------+--------+---------+\n|country|premium_written|zip_code|grp_id|grp_name                                |grp_type|city     |\n+-------+---------------+--------+------+----------------------------------------+--------+---------+\n|India  |72000          |482018  |GRP101|Life Insurance Corporation of India     |Govt.   |Mumbai   |\n|India  |45000          |482049  |GRP102|HDFC Standard Life Insurance Co. Ltd.   |Private |Mumbai   |\n|India  |64000          |482030  |GRP103|Max Life Insurance Co. Ltd.             |Private |Delhi    |\n|India  |59000          |482028  |GRP104|ICICI Prudential Life Insurance Co. Ltd.|Private |Mumbai   |\n|India  |37000          |482014  |GRP105|Kotak Mahindra Life Insurance Co. Ltd.  |Private |Mumbai   |\n|India  |89000          |482011  |GRP106|Aditya Birla Sun Life Insurance Co. Ltd.|Private |Mumbai   |\n|India  |70000          |482006  |GRP107|TATA AIG Life Insurance Co. Ltd.        |Private |Mumbai   |\n|India  |52000          |482034  |GRP108|SBI Life Insurance Co. Ltd.             |Private |Mumbai   |\n|India  |78000          |482032  |GRP109|Exide Life Insurance Co. Ltd.           |Private |Bangalore|\n|India  |48000          |482015  |GRP110|Bajaj Allianz Life Insurance Co. Ltd.   |Private |Pune     |\n+-------+---------------+--------+------+----------------------------------------+--------+---------+\nonly showing top 10 rows\n\n"
     ]
    }
   ],
   "source": [
    "group_data.show(10, False)"
   ]
  },
  {
   "cell_type": "code",
   "execution_count": 0,
   "metadata": {
    "application/vnd.databricks.v1+cell": {
     "cellMetadata": {
      "byteLimit": 2048000,
      "rowLimit": 10000
     },
     "inputWidgets": {},
     "nuid": "b1a4f725-8758-4f42-8024-9659a5f31adc",
     "showTitle": false,
     "title": ""
    }
   },
   "outputs": [
    {
     "output_type": "stream",
     "name": "stdout",
     "output_type": "stream",
     "text": [
      "root\n |-- country: string (nullable = true)\n |-- premium_written: integer (nullable = true)\n |-- zip_code: integer (nullable = true)\n |-- grp_id: string (nullable = true)\n |-- grp_name: string (nullable = true)\n |-- grp_type: string (nullable = true)\n |-- city: string (nullable = true)\n\n"
     ]
    }
   ],
   "source": [
    "group_data.printSchema()"
   ]
  },
  {
   "cell_type": "code",
   "execution_count": 0,
   "metadata": {
    "application/vnd.databricks.v1+cell": {
     "cellMetadata": {
      "byteLimit": 2048000,
      "rowLimit": 10000
     },
     "inputWidgets": {},
     "nuid": "40fd9188-7bda-40f7-aed8-395fa04fadce",
     "showTitle": false,
     "title": ""
    }
   },
   "outputs": [
    {
     "output_type": "display_data",
     "data": {
      "text/plain": [
       "\u001B[0;31m---------------------------------------------------------------------------\u001B[0m\n",
       "\u001B[0;31mPySparkValueError\u001B[0m                         Traceback (most recent call last)\n",
       "File \u001B[0;32m<command-2178660243309083>, line 1\u001B[0m\n",
       "\u001B[0;32m----> 1\u001B[0m group_data\u001B[38;5;241m.\u001B[39mfilter(\u001B[43mcol\u001B[49m\u001B[43m(\u001B[49m\u001B[38;5;124;43m'\u001B[39;49m\u001B[38;5;124;43mgroup_data\u001B[39;49m\u001B[38;5;124;43m'\u001B[39;49m\u001B[43m)\u001B[49m\u001B[43m \u001B[49m\u001B[38;5;129;43;01min\u001B[39;49;00m\u001B[43m \u001B[49m\u001B[43m[\u001B[49m\u001B[38;5;124;43m\"\u001B[39;49m\u001B[38;5;124;43mGRP110\u001B[39;49m\u001B[38;5;124;43m\"\u001B[39;49m\u001B[43m,\u001B[49m\u001B[43m \u001B[49m\u001B[38;5;124;43m\"\u001B[39;49m\u001B[38;5;124;43mGRP130\u001B[39;49m\u001B[38;5;124;43m\"\u001B[39;49m\u001B[43m,\u001B[49m\u001B[43m \u001B[49m\u001B[38;5;124;43m\"\u001B[39;49m\u001B[38;5;124;43mGRP156\u001B[39;49m\u001B[38;5;124;43m\"\u001B[39;49m\u001B[43m]\u001B[49m)\u001B[38;5;241m.\u001B[39mshow(\u001B[38;5;241m5\u001B[39m,\u001B[38;5;28;01mFalse\u001B[39;00m)\n",
       "\n",
       "File \u001B[0;32m/databricks/spark/python/pyspark/sql/column.py:1514\u001B[0m, in \u001B[0;36mColumn.__nonzero__\u001B[0;34m(self)\u001B[0m\n",
       "\u001B[1;32m   1513\u001B[0m \u001B[38;5;28;01mdef\u001B[39;00m \u001B[38;5;21m__nonzero__\u001B[39m(\u001B[38;5;28mself\u001B[39m) \u001B[38;5;241m-\u001B[39m\u001B[38;5;241m>\u001B[39m \u001B[38;5;28;01mNone\u001B[39;00m:\n",
       "\u001B[0;32m-> 1514\u001B[0m     \u001B[38;5;28;01mraise\u001B[39;00m PySparkValueError(\n",
       "\u001B[1;32m   1515\u001B[0m         error_class\u001B[38;5;241m=\u001B[39m\u001B[38;5;124m\"\u001B[39m\u001B[38;5;124mCANNOT_CONVERT_COLUMN_INTO_BOOL\u001B[39m\u001B[38;5;124m\"\u001B[39m,\n",
       "\u001B[1;32m   1516\u001B[0m         message_parameters\u001B[38;5;241m=\u001B[39m{},\n",
       "\u001B[1;32m   1517\u001B[0m     )\n",
       "\n",
       "\u001B[0;31mPySparkValueError\u001B[0m: [CANNOT_CONVERT_COLUMN_INTO_BOOL] Cannot convert column into bool: please use '&' for 'and', '|' for 'or', '~' for 'not' when building DataFrame boolean expressions."
      ]
     },
     "metadata": {
      "application/vnd.databricks.v1+output": {
       "arguments": {},
       "data": "\u001B[0;31m---------------------------------------------------------------------------\u001B[0m\n\u001B[0;31mPySparkValueError\u001B[0m                         Traceback (most recent call last)\nFile \u001B[0;32m<command-2178660243309083>, line 1\u001B[0m\n\u001B[0;32m----> 1\u001B[0m group_data\u001B[38;5;241m.\u001B[39mfilter(\u001B[43mcol\u001B[49m\u001B[43m(\u001B[49m\u001B[38;5;124;43m'\u001B[39;49m\u001B[38;5;124;43mgroup_data\u001B[39;49m\u001B[38;5;124;43m'\u001B[39;49m\u001B[43m)\u001B[49m\u001B[43m \u001B[49m\u001B[38;5;129;43;01min\u001B[39;49;00m\u001B[43m \u001B[49m\u001B[43m[\u001B[49m\u001B[38;5;124;43m\"\u001B[39;49m\u001B[38;5;124;43mGRP110\u001B[39;49m\u001B[38;5;124;43m\"\u001B[39;49m\u001B[43m,\u001B[49m\u001B[43m \u001B[49m\u001B[38;5;124;43m\"\u001B[39;49m\u001B[38;5;124;43mGRP130\u001B[39;49m\u001B[38;5;124;43m\"\u001B[39;49m\u001B[43m,\u001B[49m\u001B[43m \u001B[49m\u001B[38;5;124;43m\"\u001B[39;49m\u001B[38;5;124;43mGRP156\u001B[39;49m\u001B[38;5;124;43m\"\u001B[39;49m\u001B[43m]\u001B[49m)\u001B[38;5;241m.\u001B[39mshow(\u001B[38;5;241m5\u001B[39m,\u001B[38;5;28;01mFalse\u001B[39;00m)\n\nFile \u001B[0;32m/databricks/spark/python/pyspark/sql/column.py:1514\u001B[0m, in \u001B[0;36mColumn.__nonzero__\u001B[0;34m(self)\u001B[0m\n\u001B[1;32m   1513\u001B[0m \u001B[38;5;28;01mdef\u001B[39;00m \u001B[38;5;21m__nonzero__\u001B[39m(\u001B[38;5;28mself\u001B[39m) \u001B[38;5;241m-\u001B[39m\u001B[38;5;241m>\u001B[39m \u001B[38;5;28;01mNone\u001B[39;00m:\n\u001B[0;32m-> 1514\u001B[0m     \u001B[38;5;28;01mraise\u001B[39;00m PySparkValueError(\n\u001B[1;32m   1515\u001B[0m         error_class\u001B[38;5;241m=\u001B[39m\u001B[38;5;124m\"\u001B[39m\u001B[38;5;124mCANNOT_CONVERT_COLUMN_INTO_BOOL\u001B[39m\u001B[38;5;124m\"\u001B[39m,\n\u001B[1;32m   1516\u001B[0m         message_parameters\u001B[38;5;241m=\u001B[39m{},\n\u001B[1;32m   1517\u001B[0m     )\n\n\u001B[0;31mPySparkValueError\u001B[0m: [CANNOT_CONVERT_COLUMN_INTO_BOOL] Cannot convert column into bool: please use '&' for 'and', '|' for 'or', '~' for 'not' when building DataFrame boolean expressions.",
       "errorSummary": "<span class='ansi-red-fg'>PySparkValueError</span>: [CANNOT_CONVERT_COLUMN_INTO_BOOL] Cannot convert column into bool: please use '&' for 'and', '|' for 'or', '~' for 'not' when building DataFrame boolean expressions.",
       "errorTraceType": "ansi",
       "metadata": {},
       "type": "ipynbError"
      }
     },
     "output_type": "display_data"
    }
   ],
   "source": [
    "#group_data.filter(col('group_data') in [\"GRP110\", \"GRP130\", \"GRP156\"]).show(5,False)"
   ]
  },
  {
   "cell_type": "code",
   "execution_count": 0,
   "metadata": {
    "application/vnd.databricks.v1+cell": {
     "cellMetadata": {
      "byteLimit": 2048000,
      "rowLimit": 10000
     },
     "inputWidgets": {},
     "nuid": "7e42848f-3b00-4baf-9009-980655dee03e",
     "showTitle": false,
     "title": ""
    }
   },
   "outputs": [
    {
     "output_type": "stream",
     "name": "stdout",
     "output_type": "stream",
     "text": [
      "+-------+---------------+--------+------+-------------------------------------+--------+---------+\n|country|premium_written|zip_code|grp_id|grp_name                             |grp_type|city     |\n+-------+---------------+--------+------+-------------------------------------+--------+---------+\n|India  |48000          |482015  |GRP110|Bajaj Allianz Life Insurance Co. Ltd.|Private |Pune     |\n|India  |42000          |482036  |GRP130|Bharti AXA General Insurance         |Private |Mumbai   |\n|India  |67000          |482048  |GRP156|The Oriental Insurance Company       |Govt.   |New Delhi|\n+-------+---------------+--------+------+-------------------------------------+--------+---------+\n\n"
     ]
    }
   ],
   "source": [
    "group_data.select(\"*\").filter(col(\"grp_id\").isin(\"GRP110\", \"GRP130\", \"GRP156\")).show(5,False)"
   ]
  },
  {
   "cell_type": "code",
   "execution_count": 0,
   "metadata": {
    "application/vnd.databricks.v1+cell": {
     "cellMetadata": {
      "byteLimit": 2048000,
      "rowLimit": 10000
     },
     "inputWidgets": {},
     "nuid": "45deb116-7ea9-4fe0-b5f6-3a1a65f14c66",
     "showTitle": false,
     "title": ""
    }
   },
   "outputs": [
    {
     "output_type": "stream",
     "name": "stdout",
     "output_type": "stream",
     "text": [
      "+-------+---------------+--------+------+--------+--------+----+-----+\n|country|premium_written|zip_code|grp_id|grp_name|grp_type|city|count|\n+-------+---------------+--------+------+--------+--------+----+-----+\n+-------+---------------+--------+------+--------+--------+----+-----+\n\n"
     ]
    }
   ],
   "source": [
    "#check duplicates\n",
    "group_data.groupby(group_data.columns).count().where(\"count >1\").show()"
   ]
  },
  {
   "cell_type": "code",
   "execution_count": 0,
   "metadata": {
    "application/vnd.databricks.v1+cell": {
     "cellMetadata": {
      "byteLimit": 2048000,
      "rowLimit": 10000
     },
     "inputWidgets": {},
     "nuid": "c5f31bc9-c604-4d5f-9ebf-eefa6badc2b5",
     "showTitle": false,
     "title": ""
    }
   },
   "outputs": [],
   "source": [
    "group_data = group_data.drop_duplicates()"
   ]
  },
  {
   "cell_type": "code",
   "execution_count": 0,
   "metadata": {
    "application/vnd.databricks.v1+cell": {
     "cellMetadata": {
      "byteLimit": 2048000,
      "rowLimit": 10000
     },
     "inputWidgets": {},
     "nuid": "6753617d-3dd7-457a-b665-b29215b081dc",
     "showTitle": false,
     "title": ""
    }
   },
   "outputs": [
    {
     "output_type": "stream",
     "name": "stdout",
     "output_type": "stream",
     "text": [
      "+-------+---------------+--------+------+--------+--------+----+\n|country|premium_written|zip_code|grp_id|grp_name|grp_type|city|\n+-------+---------------+--------+------+--------+--------+----+\n|      0|              0|       0|     0|       0|       0|   0|\n+-------+---------------+--------+------+--------+--------+----+\n\n"
     ]
    }
   ],
   "source": [
    "group_data.select([count(when(isnan(c) | col(c).isNull(), c)). alias(c) for c in group_data.columns]).show()"
   ]
  },
  {
   "cell_type": "code",
   "execution_count": 0,
   "metadata": {
    "application/vnd.databricks.v1+cell": {
     "cellMetadata": {
      "byteLimit": 2048000,
      "rowLimit": 10000
     },
     "inputWidgets": {},
     "nuid": "792f71d9-a5c9-41ea-b677-c3c2bdecd943",
     "showTitle": false,
     "title": ""
    }
   },
   "outputs": [],
   "source": [
    "#loading into staging data\n",
    "#staging_path = \"abfss://stagingdata@healthcareblob31dec.dfs.core.windows.net\"\n",
    "#group_data.write.format(\"csv\").option(\"header\",\"true\").mode(\"append\").option(\"path\", staging_path).save()"
   ]
  },
  {
   "cell_type": "code",
   "execution_count": 0,
   "metadata": {
    "application/vnd.databricks.v1+cell": {
     "cellMetadata": {
      "byteLimit": 2048000,
      "rowLimit": 10000
     },
     "inputWidgets": {},
     "nuid": "d6318f2f-0208-495f-95ea-480b05b416a6",
     "showTitle": false,
     "title": ""
    }
   },
   "outputs": [
    {
     "output_type": "execute_result",
     "data": {
      "text/plain": [
       "True"
      ]
     },
     "execution_count": 26,
     "metadata": {},
     "output_type": "execute_result"
    }
   ],
   "source": [
    "output_container_path = \"abfss://stagingdata@healthcareblob31dec.dfs.core.windows.net\"\n",
    "output_blob_folder = \"stagingdata/\"\n",
    "group_data.coalesce(1).write.mode(\"overwrite\").option(\"header\" , \"true\"). format(\"com.databricks.spark.csv\").save(output_blob_folder)\n",
    "files = dbutils.fs.ls(output_blob_folder)\n",
    "outputfile = [x for x in files if x.name.startswith(\"part-\")]\n",
    "dbutils.fs.mv(outputfile[0].path, \"%s/group_data_stage.csv\"% output_container_path)"
   ]
  },
  {
   "cell_type": "code",
   "execution_count": 0,
   "metadata": {
    "application/vnd.databricks.v1+cell": {
     "cellMetadata": {},
     "inputWidgets": {},
     "nuid": "1d3b10fa-8a9d-46c1-8df6-ad134b16274a",
     "showTitle": false,
     "title": ""
    }
   },
   "outputs": [],
   "source": []
  }
 ],
 "metadata": {
  "application/vnd.databricks.v1+notebook": {
   "dashboards": [],
   "language": "python",
   "notebookMetadata": {
    "pythonIndentUnit": 4
   },
   "notebookName": "group-healthcare project",
   "widgets": {}
  }
 },
 "nbformat": 4,
 "nbformat_minor": 0
}
