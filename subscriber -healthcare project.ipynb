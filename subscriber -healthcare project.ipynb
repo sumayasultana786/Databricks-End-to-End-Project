{
 "cells": [
  {
   "cell_type": "code",
   "execution_count": 0,
   "metadata": {
    "application/vnd.databricks.v1+cell": {
     "cellMetadata": {
      "byteLimit": 2048000,
      "rowLimit": 10000
     },
     "inputWidgets": {},
     "nuid": "4f1427cf-c883-4c56-8640-5e27adfb2600",
     "showTitle": false,
     "title": ""
    }
   },
   "outputs": [],
   "source": [
    "from pyspark.sql import DataFrameWriter\n",
    "import pandas as pd\n",
    "from pyspark.sql.functions import *"
   ]
  },
  {
   "cell_type": "code",
   "execution_count": 0,
   "metadata": {
    "application/vnd.databricks.v1+cell": {
     "cellMetadata": {
      "byteLimit": 2048000,
      "rowLimit": 10000
     },
     "inputWidgets": {},
     "nuid": "1c760658-c286-44ad-a590-3849a435e767",
     "showTitle": false,
     "title": ""
    }
   },
   "outputs": [
    {
     "output_type": "execute_result",
     "data": {
      "text/plain": [
       "[SecretScope(name='scope31dec')]"
      ]
     },
     "execution_count": 2,
     "metadata": {},
     "output_type": "execute_result"
    }
   ],
   "source": [
    "dbutils.secrets.listScopes()"
   ]
  },
  {
   "cell_type": "code",
   "execution_count": 0,
   "metadata": {
    "application/vnd.databricks.v1+cell": {
     "cellMetadata": {
      "byteLimit": 2048000,
      "rowLimit": 10000
     },
     "inputWidgets": {},
     "nuid": "adf6d9db-75f8-4061-88b8-9df4e241e499",
     "showTitle": false,
     "title": ""
    }
   },
   "outputs": [
    {
     "output_type": "execute_result",
     "data": {
      "text/plain": [
       "[SecretMetadata(key='blobkeysecret31dec')]"
      ]
     },
     "execution_count": 3,
     "metadata": {},
     "output_type": "execute_result"
    }
   ],
   "source": [
    "dbutils.secrets.list(scope = 'scope31dec')"
   ]
  },
  {
   "cell_type": "code",
   "execution_count": 0,
   "metadata": {
    "application/vnd.databricks.v1+cell": {
     "cellMetadata": {
      "byteLimit": 2048000,
      "rowLimit": 10000
     },
     "inputWidgets": {},
     "nuid": "c4595501-cadd-48c2-bfa0-31dc67b02951",
     "showTitle": false,
     "title": ""
    }
   },
   "outputs": [],
   "source": [
    "spark.conf.set(\"fs.azure.account.key.healthcareblob31dec.dfs.core.windows.net\",\n",
    "    dbutils.secrets.get(scope=\"scope31dec\", key=\"blobkeysecret31dec\"))"
   ]
  },
  {
   "cell_type": "code",
   "execution_count": 0,
   "metadata": {
    "application/vnd.databricks.v1+cell": {
     "cellMetadata": {
      "byteLimit": 2048000,
      "rowLimit": 10000
     },
     "inputWidgets": {},
     "nuid": "eb4855ed-28a9-42e0-9bba-75ab0f63b134",
     "showTitle": false,
     "title": ""
    }
   },
   "outputs": [
    {
     "output_type": "display_data",
     "data": {
      "text/html": [
       "<style scoped>\n",
       "  .table-result-container {\n",
       "    max-height: 300px;\n",
       "    overflow: auto;\n",
       "  }\n",
       "  table, th, td {\n",
       "    border: 1px solid black;\n",
       "    border-collapse: collapse;\n",
       "  }\n",
       "  th, td {\n",
       "    padding: 5px;\n",
       "  }\n",
       "  th {\n",
       "    text-align: left;\n",
       "  }\n",
       "</style><div class='table-result-container'><table class='table-result'><thead style='background-color: white'><tr><th>path</th><th>name</th><th>size</th><th>modificationTime</th></tr></thead><tbody><tr><td>abfss://rawdata@healthcareblob31dec.dfs.core.windows.net/Patient_records.csv</td><td>Patient_records.csv</td><td>5110</td><td>1704010961000</td></tr><tr><td>abfss://rawdata@healthcareblob31dec.dfs.core.windows.net/claims.json</td><td>claims.json</td><td>16385</td><td>1704027744000</td></tr><tr><td>abfss://rawdata@healthcareblob31dec.dfs.core.windows.net/disease.csv</td><td>disease.csv</td><td>1489</td><td>1704010960000</td></tr><tr><td>abfss://rawdata@healthcareblob31dec.dfs.core.windows.net/group.csv</td><td>group.csv</td><td>4390</td><td>1704010960000</td></tr><tr><td>abfss://rawdata@healthcareblob31dec.dfs.core.windows.net/hospital.csv</td><td>hospital.csv</td><td>1328</td><td>1704010960000</td></tr><tr><td>abfss://rawdata@healthcareblob31dec.dfs.core.windows.net/subgroup.csv</td><td>subgroup.csv</td><td>561</td><td>1704010960000</td></tr><tr><td>abfss://rawdata@healthcareblob31dec.dfs.core.windows.net/subscriber.csv</td><td>subscriber.csv</td><td>12061</td><td>1704010960000</td></tr></tbody></table></div>"
      ]
     },
     "metadata": {
      "application/vnd.databricks.v1+output": {
       "addedWidgets": {},
       "aggData": [],
       "aggError": "",
       "aggOverflow": false,
       "aggSchema": [],
       "aggSeriesLimitReached": false,
       "aggType": "",
       "arguments": {},
       "columnCustomDisplayInfos": {},
       "data": [
        [
         "abfss://rawdata@healthcareblob31dec.dfs.core.windows.net/Patient_records.csv",
         "Patient_records.csv",
         5110,
         1704010961000
        ],
        [
         "abfss://rawdata@healthcareblob31dec.dfs.core.windows.net/claims.json",
         "claims.json",
         16385,
         1704027744000
        ],
        [
         "abfss://rawdata@healthcareblob31dec.dfs.core.windows.net/disease.csv",
         "disease.csv",
         1489,
         1704010960000
        ],
        [
         "abfss://rawdata@healthcareblob31dec.dfs.core.windows.net/group.csv",
         "group.csv",
         4390,
         1704010960000
        ],
        [
         "abfss://rawdata@healthcareblob31dec.dfs.core.windows.net/hospital.csv",
         "hospital.csv",
         1328,
         1704010960000
        ],
        [
         "abfss://rawdata@healthcareblob31dec.dfs.core.windows.net/subgroup.csv",
         "subgroup.csv",
         561,
         1704010960000
        ],
        [
         "abfss://rawdata@healthcareblob31dec.dfs.core.windows.net/subscriber.csv",
         "subscriber.csv",
         12061,
         1704010960000
        ]
       ],
       "datasetInfos": [],
       "dbfsResultPath": null,
       "isJsonSchema": true,
       "metadata": {},
       "overflow": false,
       "plotOptions": {
        "customPlotOptions": {},
        "displayType": "table",
        "pivotAggregation": null,
        "pivotColumns": null,
        "xColumns": null,
        "yColumns": null
       },
       "removedWidgets": [],
       "schema": [
        {
         "metadata": "{}",
         "name": "path",
         "type": "\"string\""
        },
        {
         "metadata": "{}",
         "name": "name",
         "type": "\"string\""
        },
        {
         "metadata": "{}",
         "name": "size",
         "type": "\"long\""
        },
        {
         "metadata": "{}",
         "name": "modificationTime",
         "type": "\"long\""
        }
       ],
       "type": "table"
      }
     },
     "output_type": "display_data"
    }
   ],
   "source": [
    "display(dbutils.fs.ls(\"abfss://rawdata@healthcareblob31dec.dfs.core.windows.net\"))"
   ]
  },
  {
   "cell_type": "code",
   "execution_count": 0,
   "metadata": {
    "application/vnd.databricks.v1+cell": {
     "cellMetadata": {
      "byteLimit": 2048000,
      "rowLimit": 10000
     },
     "inputWidgets": {},
     "nuid": "adb7df2c-b761-4543-9d4a-3e5704a73d48",
     "showTitle": false,
     "title": ""
    }
   },
   "outputs": [],
   "source": [
    "subscriber_data = spark.read.csv(\"abfss://rawdata@healthcareblob31dec.dfs.core.windows.net/subscriber.csv\", header = True, inferSchema= True)"
   ]
  },
  {
   "cell_type": "code",
   "execution_count": 0,
   "metadata": {
    "application/vnd.databricks.v1+cell": {
     "cellMetadata": {
      "byteLimit": 2048000,
      "rowLimit": 10000
     },
     "inputWidgets": {},
     "nuid": "1f3e046a-19b4-4007-9f7a-64bc08de3632",
     "showTitle": false,
     "title": ""
    }
   },
   "outputs": [
    {
     "output_type": "stream",
     "name": "stdout",
     "output_type": "stream",
     "text": [
      "+----------+----------+-----------+-----------------+----------+------+--------------+-------+------------+--------+---------+--------+----------+----------+\n|sub_id    |first_name|last_name  |Street           |Birth_date|Gender|Phone         |Country|City        |Zip Code|Subgrp_id|Elig_ind|eff_date  |term_date |\n+----------+----------+-----------+-----------------+----------+------+--------------+-------+------------+--------+---------+--------+----------+----------+\n|SUBID10000|Harbir    |Vishwakarma|Baria Marg       |1924-06-30|Female|+91 0112009318|India  |Rourkela    |767058  |S107     |Y       |1944-06-30|1954-01-14|\n|SUBID10001|Brahmdev  |Sonkar     |Lala Marg        |1948-12-20|Female|+91 1727749552|India  |Tiruvottiyur|34639   |S105     |Y       |1968-12-20|1970-05-16|\n|SUBID10002|Ujjawal   |Devi       |Mammen Zila      |1980-04-16|Male  |+91 8547451606|India  |Berhampur   |914455  |S106     |N       |2000-04-16|2008-05-04|\n|SUBID10003|Ballari   |Mishra     |Sahni Zila       |1969-09-25|Female|+91 0106026841|India  |Bihar Sharif|91481   |S104     |N       |1989-09-25|1995-06-05|\n|SUBID10004|Devnath   |Srivastav  |Magar Zila       |1946-05-01|Female|+91 1868774631|India  |Bidhannagar |531742  |S110     |N       |1966-05-01|1970-12-09|\n|SUBID10005|Atasi     |Seth       |Khatri Nagar     |1967-10-02|Male  |+91 9747336855|India  |Amravati    |229062  |S104     |Y       |1987-10-02|1995-02-13|\n|SUBID1006 |Manish    |Maurya     |Swaminathan Chowk|1967-06-06|Male  |+91 4354294043|India  |Panvel      |438733  |S109     |NULL    |1987-06-06|1995-03-21|\n|SUBID10007|Aakar     |Yadav      |Swamy            |1925-03-05|Female|+91 2777633911|India  |Bihar Sharif|535907  |S104     |N       |1945-03-05|1946-11-07|\n|SUBID10008|Gurudas   |Gupta      |Sarin Nagar      |1945-05-06|Male  |+91 1232859381|India  |Kamarhati   |933226  |S103     |Y       |1965-05-06|1970-09-16|\n|SUBID10009|NULL      |Gupta      |Thakur Circle    |1925-06-12|Male  |+91 1780763280|India  |Bangalore   |957469  |S105     |Y       |1945-06-12|1953-08-30|\n+----------+----------+-----------+-----------------+----------+------+--------------+-------+------------+--------+---------+--------+----------+----------+\nonly showing top 10 rows\n\n"
     ]
    }
   ],
   "source": [
    "subscriber_data.show(10, False)"
   ]
  },
  {
   "cell_type": "code",
   "execution_count": 0,
   "metadata": {
    "application/vnd.databricks.v1+cell": {
     "cellMetadata": {
      "byteLimit": 2048000,
      "rowLimit": 10000
     },
     "inputWidgets": {},
     "nuid": "b1a4f725-8758-4f42-8024-9659a5f31adc",
     "showTitle": false,
     "title": ""
    }
   },
   "outputs": [
    {
     "output_type": "stream",
     "name": "stdout",
     "output_type": "stream",
     "text": [
      "root\n |-- sub_id: string (nullable = true)\n |-- first_name: string (nullable = true)\n |-- last_name: string (nullable = true)\n |-- Street: string (nullable = true)\n |-- Birth_date: date (nullable = true)\n |-- Gender: string (nullable = true)\n |-- Phone: string (nullable = true)\n |-- Country: string (nullable = true)\n |-- City: string (nullable = true)\n |-- Zip Code: integer (nullable = true)\n |-- Subgrp_id: string (nullable = true)\n |-- Elig_ind: string (nullable = true)\n |-- eff_date: date (nullable = true)\n |-- term_date: date (nullable = true)\n\n"
     ]
    }
   ],
   "source": [
    "subscriber_data.printSchema()"
   ]
  },
  {
   "cell_type": "code",
   "execution_count": 0,
   "metadata": {
    "application/vnd.databricks.v1+cell": {
     "cellMetadata": {
      "byteLimit": 2048000,
      "rowLimit": 10000
     },
     "inputWidgets": {},
     "nuid": "27952d19-7563-4e8f-9e14-39c238e5260f",
     "showTitle": false,
     "title": ""
    }
   },
   "outputs": [
    {
     "output_type": "stream",
     "name": "stdout",
     "output_type": "stream",
     "text": [
      "+------+----------+---------+------+----------+------+-----+-------+----+--------+---------+--------+--------+---------+\n|sub_id|first_name|last_name|Street|Birth_date|Gender|Phone|Country|City|Zip Code|Subgrp_id|Elig_ind|eff_date|term_date|\n+------+----------+---------+------+----------+------+-----+-------+----+--------+---------+--------+--------+---------+\n|     0|        27|        0|     0|         0|     0|    3|      0|   0|       0|        2|       4|       0|        0|\n+------+----------+---------+------+----------+------+-----+-------+----+--------+---------+--------+--------+---------+\n\n"
     ]
    }
   ],
   "source": [
    "# check null values\n",
    "subscriber_data.select([count(when(col(c).isNull(), c)). alias(c) for c in subscriber_data.columns]).show()"
   ]
  },
  {
   "cell_type": "code",
   "execution_count": 0,
   "metadata": {
    "application/vnd.databricks.v1+cell": {
     "cellMetadata": {
      "byteLimit": 2048000,
      "rowLimit": 10000
     },
     "inputWidgets": {},
     "nuid": "5b70711a-061a-4b80-af5a-5e7dc0f91833",
     "showTitle": false,
     "title": ""
    }
   },
   "outputs": [],
   "source": [
    "subscriber_data = subscriber_data.drop(col('Phone'))"
   ]
  },
  {
   "cell_type": "code",
   "execution_count": 0,
   "metadata": {
    "application/vnd.databricks.v1+cell": {
     "cellMetadata": {
      "byteLimit": 2048000,
      "rowLimit": 10000
     },
     "inputWidgets": {},
     "nuid": "40fd9188-7bda-40f7-aed8-395fa04fadce",
     "showTitle": false,
     "title": ""
    }
   },
   "outputs": [],
   "source": [
    "subscriber_data= subscriber_data.fillna({\"Elig_ind\" : \"N\", \"first_name\" : \"Guest/NA\"})"
   ]
  },
  {
   "cell_type": "code",
   "execution_count": 0,
   "metadata": {
    "application/vnd.databricks.v1+cell": {
     "cellMetadata": {
      "byteLimit": 2048000,
      "rowLimit": 10000
     },
     "inputWidgets": {},
     "nuid": "7979b30d-7f15-4361-934f-69c3901264c2",
     "showTitle": false,
     "title": ""
    }
   },
   "outputs": [
    {
     "output_type": "stream",
     "name": "stdout",
     "output_type": "stream",
     "text": [
      "+----------+----------+-----------+------------+----------+------+-------+------------+--------+---------+--------+----------+----------+\n|    sub_id|first_name|  last_name|      Street|Birth_date|Gender|Country|        City|Zip Code|Subgrp_id|Elig_ind|  eff_date| term_date|\n+----------+----------+-----------+------------+----------+------+-------+------------+--------+---------+--------+----------+----------+\n|SUBID10000|    Harbir|Vishwakarma|  Baria Marg|1924-06-30|Female|  India|    Rourkela|  767058|     S107|       Y|1944-06-30|1954-01-14|\n|SUBID10001|  Brahmdev|     Sonkar|   Lala Marg|1948-12-20|Female|  India|Tiruvottiyur|   34639|     S105|       Y|1968-12-20|1970-05-16|\n|SUBID10002|   Ujjawal|       Devi| Mammen Zila|1980-04-16|  Male|  India|   Berhampur|  914455|     S106|       N|2000-04-16|2008-05-04|\n|SUBID10003|   Ballari|     Mishra|  Sahni Zila|1969-09-25|Female|  India|Bihar Sharif|   91481|     S104|       N|1989-09-25|1995-06-05|\n|SUBID10004|   Devnath|  Srivastav|  Magar Zila|1946-05-01|Female|  India| Bidhannagar|  531742|     S110|       N|1966-05-01|1970-12-09|\n|SUBID10005|     Atasi|       Seth|Khatri Nagar|1967-10-02|  Male|  India|    Amravati|  229062|     S104|       Y|1987-10-02|1995-02-13|\n+----------+----------+-----------+------------+----------+------+-------+------------+--------+---------+--------+----------+----------+\nonly showing top 6 rows\n\n"
     ]
    }
   ],
   "source": [
    "subscriber_data.show(6)"
   ]
  },
  {
   "cell_type": "code",
   "execution_count": 0,
   "metadata": {
    "application/vnd.databricks.v1+cell": {
     "cellMetadata": {
      "byteLimit": 2048000,
      "rowLimit": 10000
     },
     "inputWidgets": {},
     "nuid": "75f23889-196d-4dc9-b8f1-ad841d822184",
     "showTitle": false,
     "title": ""
    }
   },
   "outputs": [],
   "source": [
    "subscriber_data = subscriber_data.withColumn(\"Subscriber_Age\", (months_between (current_date(), col('Birth_date') )/12).cast(\"int\"))"
   ]
  },
  {
   "cell_type": "code",
   "execution_count": 0,
   "metadata": {
    "application/vnd.databricks.v1+cell": {
     "cellMetadata": {
      "byteLimit": 2048000,
      "rowLimit": 10000
     },
     "inputWidgets": {},
     "nuid": "1ee3ebe0-761a-49bf-b9cd-2a8bbcb45fcb",
     "showTitle": false,
     "title": ""
    }
   },
   "outputs": [],
   "source": [
    "subscriber_data = subscriber_data.drop(col('Birth_date'))"
   ]
  },
  {
   "cell_type": "code",
   "execution_count": 0,
   "metadata": {
    "application/vnd.databricks.v1+cell": {
     "cellMetadata": {
      "byteLimit": 2048000,
      "rowLimit": 10000
     },
     "inputWidgets": {},
     "nuid": "b6a9c948-8a83-4497-a668-384cd762ab96",
     "showTitle": false,
     "title": ""
    }
   },
   "outputs": [
    {
     "output_type": "stream",
     "name": "stdout",
     "output_type": "stream",
     "text": [
      "+----------+----------+-----------+-----------+------+-------+------------+--------+---------+--------+----------+----------+--------------+\n|sub_id    |first_name|last_name  |Street     |Gender|Country|City        |Zip Code|Subgrp_id|Elig_ind|eff_date  |term_date |Subscriber_Age|\n+----------+----------+-----------+-----------+------+-------+------------+--------+---------+--------+----------+----------+--------------+\n|SUBID10000|Harbir    |Vishwakarma|Baria Marg |Female|India  |Rourkela    |767058  |S107     |Y       |1944-06-30|1954-01-14|99            |\n|SUBID10001|Brahmdev  |Sonkar     |Lala Marg  |Female|India  |Tiruvottiyur|34639   |S105     |Y       |1968-12-20|1970-05-16|75            |\n|SUBID10002|Ujjawal   |Devi       |Mammen Zila|Male  |India  |Berhampur   |914455  |S106     |N       |2000-04-16|2008-05-04|43            |\n|SUBID10003|Ballari   |Mishra     |Sahni Zila |Female|India  |Bihar Sharif|91481   |S104     |N       |1989-09-25|1995-06-05|54            |\n|SUBID10004|Devnath   |Srivastav  |Magar Zila |Female|India  |Bidhannagar |531742  |S110     |N       |1966-05-01|1970-12-09|77            |\n+----------+----------+-----------+-----------+------+-------+------------+--------+---------+--------+----------+----------+--------------+\nonly showing top 5 rows\n\n"
     ]
    }
   ],
   "source": [
    "subscriber_data.show(5, False)"
   ]
  },
  {
   "cell_type": "code",
   "execution_count": 0,
   "metadata": {
    "application/vnd.databricks.v1+cell": {
     "cellMetadata": {
      "byteLimit": 2048000,
      "rowLimit": 10000
     },
     "inputWidgets": {},
     "nuid": "8efcdf6c-2bdf-4c36-9c25-f4a015888fe8",
     "showTitle": false,
     "title": ""
    }
   },
   "outputs": [
    {
     "output_type": "stream",
     "name": "stdout",
     "output_type": "stream",
     "text": [
      "+----------+----------+---------+---------+------+-------+--------+--------+---------+--------+----------+----------+--------------+\n|    sub_id|first_name|last_name|   Street|Gender|Country|    City|Zip Code|Subgrp_id|Elig_ind|  eff_date| term_date|Subscriber_Age|\n+----------+----------+---------+---------+------+-------+--------+--------+---------+--------+----------+----------+--------------+\n|SUBID10022|   Prakash|      Rao|   Sachar|Female|  India|Kottayam|  180680|     NULL|       N|1943-09-15|1948-10-19|           100|\n|SUBID10049|   Paridhi|    Yadav|Sant Path|Female|  India|Jabalpur|  883754|     NULL|       N|1979-03-27|1985-06-01|            64|\n+----------+----------+---------+---------+------+-------+--------+--------+---------+--------+----------+----------+--------------+\n\n"
     ]
    }
   ],
   "source": [
    "subscriber_data.select(\"*\").where(col(\"Subgrp_id\").isNull()).show(5)"
   ]
  },
  {
   "cell_type": "code",
   "execution_count": 0,
   "metadata": {
    "application/vnd.databricks.v1+cell": {
     "cellMetadata": {
      "byteLimit": 2048000,
      "rowLimit": 10000
     },
     "inputWidgets": {},
     "nuid": "08c4d713-5d91-4713-9de5-14ee68c91fc4",
     "showTitle": false,
     "title": ""
    }
   },
   "outputs": [
    {
     "output_type": "execute_result",
     "data": {
      "text/plain": [
       "True"
      ]
     },
     "execution_count": 41,
     "metadata": {},
     "output_type": "execute_result"
    }
   ],
   "source": [
    "output_container_path = \"abfss://stagingdata@healthcareblob31dec.dfs.core.windows.net\"\n",
    "output_blob_folder = \"stagingdata/\"\n",
    "subscriber_data.coalesce(1).write.mode(\"overwrite\").option(\"header\" , \"true\"). format(\"com.databricks.spark.csv\").save(output_blob_folder)\n",
    "files = dbutils.fs.ls(output_blob_folder)\n",
    "outputfile = [x for x in files if x.name.startswith(\"part-\")]\n",
    "dbutils.fs.mv(outputfile[0].path, \"%s/subscriber_data_stage.csv\"% output_container_path)"
   ]
  },
  {
   "cell_type": "code",
   "execution_count": 0,
   "metadata": {
    "application/vnd.databricks.v1+cell": {
     "cellMetadata": {},
     "inputWidgets": {},
     "nuid": "0bdcea17-8425-4e1c-8dd1-cfae316cd86c",
     "showTitle": false,
     "title": ""
    }
   },
   "outputs": [],
   "source": []
  }
 ],
 "metadata": {
  "application/vnd.databricks.v1+notebook": {
   "dashboards": [],
   "language": "python",
   "notebookMetadata": {
    "pythonIndentUnit": 4
   },
   "notebookName": "subscriber -healthcare project",
   "widgets": {}
  }
 },
 "nbformat": 4,
 "nbformat_minor": 0
}
