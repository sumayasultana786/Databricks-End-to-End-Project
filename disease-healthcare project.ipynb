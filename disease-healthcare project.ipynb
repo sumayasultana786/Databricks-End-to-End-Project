{
 "cells": [
  {
   "cell_type": "code",
   "execution_count": 0,
   "metadata": {
    "application/vnd.databricks.v1+cell": {
     "cellMetadata": {
      "byteLimit": 2048000,
      "rowLimit": 10000
     },
     "inputWidgets": {},
     "nuid": "4f1427cf-c883-4c56-8640-5e27adfb2600",
     "showTitle": false,
     "title": ""
    }
   },
   "outputs": [],
   "source": [
    "from pyspark.sql import DataFrameWriter\n",
    "import pandas as pd\n",
    "from pyspark.sql.functions import *"
   ]
  },
  {
   "cell_type": "code",
   "execution_count": 0,
   "metadata": {
    "application/vnd.databricks.v1+cell": {
     "cellMetadata": {
      "byteLimit": 2048000,
      "rowLimit": 10000
     },
     "inputWidgets": {},
     "nuid": "1c760658-c286-44ad-a590-3849a435e767",
     "showTitle": false,
     "title": ""
    }
   },
   "outputs": [
    {
     "output_type": "execute_result",
     "data": {
      "text/plain": [
       "[SecretScope(name='scope31dec')]"
      ]
     },
     "execution_count": 2,
     "metadata": {},
     "output_type": "execute_result"
    }
   ],
   "source": [
    "dbutils.secrets.listScopes()"
   ]
  },
  {
   "cell_type": "code",
   "execution_count": 0,
   "metadata": {
    "application/vnd.databricks.v1+cell": {
     "cellMetadata": {
      "byteLimit": 2048000,
      "rowLimit": 10000
     },
     "inputWidgets": {},
     "nuid": "adf6d9db-75f8-4061-88b8-9df4e241e499",
     "showTitle": false,
     "title": ""
    }
   },
   "outputs": [
    {
     "output_type": "execute_result",
     "data": {
      "text/plain": [
       "[SecretMetadata(key='blobkeysecret31dec')]"
      ]
     },
     "execution_count": 3,
     "metadata": {},
     "output_type": "execute_result"
    }
   ],
   "source": [
    "dbutils.secrets.list(scope = 'scope31dec')"
   ]
  },
  {
   "cell_type": "code",
   "execution_count": 0,
   "metadata": {
    "application/vnd.databricks.v1+cell": {
     "cellMetadata": {
      "byteLimit": 2048000,
      "rowLimit": 10000
     },
     "inputWidgets": {},
     "nuid": "c4595501-cadd-48c2-bfa0-31dc67b02951",
     "showTitle": false,
     "title": ""
    }
   },
   "outputs": [],
   "source": [
    "spark.conf.set(\"fs.azure.account.key.healthcareblob31dec.dfs.core.windows.net\",\n",
    "    dbutils.secrets.get(scope=\"scope31dec\", key=\"blobkeysecret31dec\"))"
   ]
  },
  {
   "cell_type": "code",
   "execution_count": 0,
   "metadata": {
    "application/vnd.databricks.v1+cell": {
     "cellMetadata": {
      "byteLimit": 2048000,
      "rowLimit": 10000
     },
     "inputWidgets": {},
     "nuid": "eb4855ed-28a9-42e0-9bba-75ab0f63b134",
     "showTitle": false,
     "title": ""
    }
   },
   "outputs": [
    {
     "output_type": "display_data",
     "data": {
      "text/html": [
       "<style scoped>\n",
       "  .table-result-container {\n",
       "    max-height: 300px;\n",
       "    overflow: auto;\n",
       "  }\n",
       "  table, th, td {\n",
       "    border: 1px solid black;\n",
       "    border-collapse: collapse;\n",
       "  }\n",
       "  th, td {\n",
       "    padding: 5px;\n",
       "  }\n",
       "  th {\n",
       "    text-align: left;\n",
       "  }\n",
       "</style><div class='table-result-container'><table class='table-result'><thead style='background-color: white'><tr><th>path</th><th>name</th><th>size</th><th>modificationTime</th></tr></thead><tbody><tr><td>abfss://rawdata@healthcareblob31dec.dfs.core.windows.net/Patient_records.csv</td><td>Patient_records.csv</td><td>5110</td><td>1704010961000</td></tr><tr><td>abfss://rawdata@healthcareblob31dec.dfs.core.windows.net/disease.csv</td><td>disease.csv</td><td>1489</td><td>1704010960000</td></tr><tr><td>abfss://rawdata@healthcareblob31dec.dfs.core.windows.net/group.csv</td><td>group.csv</td><td>4390</td><td>1704010960000</td></tr><tr><td>abfss://rawdata@healthcareblob31dec.dfs.core.windows.net/hospital.csv</td><td>hospital.csv</td><td>1328</td><td>1704010960000</td></tr><tr><td>abfss://rawdata@healthcareblob31dec.dfs.core.windows.net/subgroup.csv</td><td>subgroup.csv</td><td>561</td><td>1704010960000</td></tr><tr><td>abfss://rawdata@healthcareblob31dec.dfs.core.windows.net/subscriber.csv</td><td>subscriber.csv</td><td>12061</td><td>1704010960000</td></tr></tbody></table></div>"
      ]
     },
     "metadata": {
      "application/vnd.databricks.v1+output": {
       "addedWidgets": {},
       "aggData": [],
       "aggError": "",
       "aggOverflow": false,
       "aggSchema": [],
       "aggSeriesLimitReached": false,
       "aggType": "",
       "arguments": {},
       "columnCustomDisplayInfos": {},
       "data": [
        [
         "abfss://rawdata@healthcareblob31dec.dfs.core.windows.net/Patient_records.csv",
         "Patient_records.csv",
         5110,
         1704010961000
        ],
        [
         "abfss://rawdata@healthcareblob31dec.dfs.core.windows.net/disease.csv",
         "disease.csv",
         1489,
         1704010960000
        ],
        [
         "abfss://rawdata@healthcareblob31dec.dfs.core.windows.net/group.csv",
         "group.csv",
         4390,
         1704010960000
        ],
        [
         "abfss://rawdata@healthcareblob31dec.dfs.core.windows.net/hospital.csv",
         "hospital.csv",
         1328,
         1704010960000
        ],
        [
         "abfss://rawdata@healthcareblob31dec.dfs.core.windows.net/subgroup.csv",
         "subgroup.csv",
         561,
         1704010960000
        ],
        [
         "abfss://rawdata@healthcareblob31dec.dfs.core.windows.net/subscriber.csv",
         "subscriber.csv",
         12061,
         1704010960000
        ]
       ],
       "datasetInfos": [],
       "dbfsResultPath": null,
       "isJsonSchema": true,
       "metadata": {},
       "overflow": false,
       "plotOptions": {
        "customPlotOptions": {},
        "displayType": "table",
        "pivotAggregation": null,
        "pivotColumns": null,
        "xColumns": null,
        "yColumns": null
       },
       "removedWidgets": [],
       "schema": [
        {
         "metadata": "{}",
         "name": "path",
         "type": "\"string\""
        },
        {
         "metadata": "{}",
         "name": "name",
         "type": "\"string\""
        },
        {
         "metadata": "{}",
         "name": "size",
         "type": "\"long\""
        },
        {
         "metadata": "{}",
         "name": "modificationTime",
         "type": "\"long\""
        }
       ],
       "type": "table"
      }
     },
     "output_type": "display_data"
    }
   ],
   "source": [
    "display(dbutils.fs.ls(\"abfss://rawdata@healthcareblob31dec.dfs.core.windows.net\"))"
   ]
  },
  {
   "cell_type": "code",
   "execution_count": 0,
   "metadata": {
    "application/vnd.databricks.v1+cell": {
     "cellMetadata": {
      "byteLimit": 2048000,
      "rowLimit": 10000
     },
     "inputWidgets": {},
     "nuid": "adb7df2c-b761-4543-9d4a-3e5704a73d48",
     "showTitle": false,
     "title": ""
    }
   },
   "outputs": [],
   "source": [
    "disease_data = spark.read.csv(\"abfss://rawdata@healthcareblob31dec.dfs.core.windows.net/disease.csv\", header = True, inferSchema= True)"
   ]
  },
  {
   "cell_type": "code",
   "execution_count": 0,
   "metadata": {
    "application/vnd.databricks.v1+cell": {
     "cellMetadata": {
      "byteLimit": 2048000,
      "rowLimit": 10000
     },
     "inputWidgets": {},
     "nuid": "1f3e046a-19b4-4007-9f7a-64bc08de3632",
     "showTitle": false,
     "title": ""
    }
   },
   "outputs": [
    {
     "output_type": "stream",
     "name": "stdout",
     "output_type": "stream",
     "text": [
      "+---------+----------+------------+\n|subgrp_id|disease_id|disease_name|\n+---------+----------+------------+\n|S101     |110001    |Beriberi    |\n|S101     |110002    |Scurvy      |\n|S101     |110003    |Goitre      |\n|S101     |110004    |Osteoporosis|\n|S101     |110005    |Rickets     |\n|S101     |110006    |Anaemia     |\n|S102     |110007    |Fractures   |\n|S102     |110008    |Heart Attack|\n|S102     |110009    |Burns       |\n|S102     |110010    |Choking     |\n+---------+----------+------------+\nonly showing top 10 rows\n\n"
     ]
    }
   ],
   "source": [
    "disease_data.show(10, False)"
   ]
  },
  {
   "cell_type": "code",
   "execution_count": 0,
   "metadata": {
    "application/vnd.databricks.v1+cell": {
     "cellMetadata": {
      "byteLimit": 2048000,
      "rowLimit": 10000
     },
     "inputWidgets": {},
     "nuid": "b1a4f725-8758-4f42-8024-9659a5f31adc",
     "showTitle": false,
     "title": ""
    }
   },
   "outputs": [
    {
     "output_type": "stream",
     "name": "stdout",
     "output_type": "stream",
     "text": [
      "root\n |-- subgrp_id: string (nullable = true)\n |-- disease_id: integer (nullable = true)\n |-- disease_name: string (nullable = true)\n\n"
     ]
    }
   ],
   "source": [
    "disease_data.printSchema()"
   ]
  },
  {
   "cell_type": "code",
   "execution_count": 0,
   "metadata": {
    "application/vnd.databricks.v1+cell": {
     "cellMetadata": {
      "byteLimit": 2048000,
      "rowLimit": 10000
     },
     "inputWidgets": {},
     "nuid": "40fd9188-7bda-40f7-aed8-395fa04fadce",
     "showTitle": false,
     "title": ""
    }
   },
   "outputs": [
    {
     "output_type": "execute_result",
     "data": {
      "text/plain": [
       "True"
      ]
     },
     "execution_count": 7,
     "metadata": {},
     "output_type": "execute_result"
    }
   ],
   "source": [
    "output_container_path = \"abfss://stagingdata@healthcareblob31dec.dfs.core.windows.net\"\n",
    "output_blob_folder = \"stagingdata/\"\n",
    "disease_data.coalesce(1).write.mode(\"overwrite\").option(\"header\" , \"true\"). format(\"com.databricks.spark.csv\").save(output_blob_folder)\n",
    "files = dbutils.fs.ls(output_blob_folder)\n",
    "outputfile = [x for x in files if x.name.startswith(\"part-\")]\n",
    "dbutils.fs.mv(outputfile[0].path, \"%s/disease_data_stage.csv\"% output_container_path)"
   ]
  },
  {
   "cell_type": "code",
   "execution_count": 0,
   "metadata": {
    "application/vnd.databricks.v1+cell": {
     "cellMetadata": {},
     "inputWidgets": {},
     "nuid": "85a2e48a-c15e-478f-8f79-885361788520",
     "showTitle": false,
     "title": ""
    }
   },
   "outputs": [],
   "source": []
  }
 ],
 "metadata": {
  "application/vnd.databricks.v1+notebook": {
   "dashboards": [],
   "language": "python",
   "notebookMetadata": {
    "pythonIndentUnit": 4
   },
   "notebookName": "disease-healthcare project",
   "widgets": {}
  }
 },
 "nbformat": 4,
 "nbformat_minor": 0
}
