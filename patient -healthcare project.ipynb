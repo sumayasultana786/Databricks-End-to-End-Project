{
 "cells": [
  {
   "cell_type": "code",
   "execution_count": 0,
   "metadata": {
    "application/vnd.databricks.v1+cell": {
     "cellMetadata": {
      "byteLimit": 2048000,
      "rowLimit": 10000
     },
     "inputWidgets": {},
     "nuid": "4f1427cf-c883-4c56-8640-5e27adfb2600",
     "showTitle": false,
     "title": ""
    }
   },
   "outputs": [],
   "source": [
    "from pyspark.sql import DataFrameWriter\n",
    "import pandas as pd\n",
    "from pyspark.sql.functions import *"
   ]
  },
  {
   "cell_type": "code",
   "execution_count": 0,
   "metadata": {
    "application/vnd.databricks.v1+cell": {
     "cellMetadata": {
      "byteLimit": 2048000,
      "rowLimit": 10000
     },
     "inputWidgets": {},
     "nuid": "1c760658-c286-44ad-a590-3849a435e767",
     "showTitle": false,
     "title": ""
    }
   },
   "outputs": [
    {
     "output_type": "execute_result",
     "data": {
      "text/plain": [
       "[SecretScope(name='scope31dec')]"
      ]
     },
     "execution_count": 5,
     "metadata": {},
     "output_type": "execute_result"
    }
   ],
   "source": [
    "dbutils.secrets.listScopes()"
   ]
  },
  {
   "cell_type": "code",
   "execution_count": 0,
   "metadata": {
    "application/vnd.databricks.v1+cell": {
     "cellMetadata": {
      "byteLimit": 2048000,
      "rowLimit": 10000
     },
     "inputWidgets": {},
     "nuid": "adf6d9db-75f8-4061-88b8-9df4e241e499",
     "showTitle": false,
     "title": ""
    }
   },
   "outputs": [
    {
     "output_type": "execute_result",
     "data": {
      "text/plain": [
       "[SecretMetadata(key='blobkeysecret31dec')]"
      ]
     },
     "execution_count": 6,
     "metadata": {},
     "output_type": "execute_result"
    }
   ],
   "source": [
    "dbutils.secrets.list(scope = 'scope31dec')"
   ]
  },
  {
   "cell_type": "code",
   "execution_count": 0,
   "metadata": {
    "application/vnd.databricks.v1+cell": {
     "cellMetadata": {
      "byteLimit": 2048000,
      "rowLimit": 10000
     },
     "inputWidgets": {},
     "nuid": "c4595501-cadd-48c2-bfa0-31dc67b02951",
     "showTitle": false,
     "title": ""
    }
   },
   "outputs": [],
   "source": [
    "spark.conf.set(\"fs.azure.account.key.healthcareblob31dec.dfs.core.windows.net\",\n",
    "    dbutils.secrets.get(scope=\"scope31dec\", key=\"blobkeysecret31dec\"))"
   ]
  },
  {
   "cell_type": "code",
   "execution_count": 0,
   "metadata": {
    "application/vnd.databricks.v1+cell": {
     "cellMetadata": {
      "byteLimit": 2048000,
      "rowLimit": 10000
     },
     "inputWidgets": {},
     "nuid": "eb4855ed-28a9-42e0-9bba-75ab0f63b134",
     "showTitle": false,
     "title": ""
    }
   },
   "outputs": [
    {
     "output_type": "display_data",
     "data": {
      "text/html": [
       "<style scoped>\n",
       "  .table-result-container {\n",
       "    max-height: 300px;\n",
       "    overflow: auto;\n",
       "  }\n",
       "  table, th, td {\n",
       "    border: 1px solid black;\n",
       "    border-collapse: collapse;\n",
       "  }\n",
       "  th, td {\n",
       "    padding: 5px;\n",
       "  }\n",
       "  th {\n",
       "    text-align: left;\n",
       "  }\n",
       "</style><div class='table-result-container'><table class='table-result'><thead style='background-color: white'><tr><th>path</th><th>name</th><th>size</th><th>modificationTime</th></tr></thead><tbody><tr><td>abfss://rawdata@healthcareblob31dec.dfs.core.windows.net/Patient_records.csv</td><td>Patient_records.csv</td><td>5110</td><td>1704010961000</td></tr><tr><td>abfss://rawdata@healthcareblob31dec.dfs.core.windows.net/disease.csv</td><td>disease.csv</td><td>1489</td><td>1704010960000</td></tr><tr><td>abfss://rawdata@healthcareblob31dec.dfs.core.windows.net/group.csv</td><td>group.csv</td><td>4390</td><td>1704010960000</td></tr><tr><td>abfss://rawdata@healthcareblob31dec.dfs.core.windows.net/hospital.csv</td><td>hospital.csv</td><td>1328</td><td>1704010960000</td></tr><tr><td>abfss://rawdata@healthcareblob31dec.dfs.core.windows.net/subgroup.csv</td><td>subgroup.csv</td><td>561</td><td>1704010960000</td></tr><tr><td>abfss://rawdata@healthcareblob31dec.dfs.core.windows.net/subscriber.csv</td><td>subscriber.csv</td><td>12061</td><td>1704010960000</td></tr></tbody></table></div>"
      ]
     },
     "metadata": {
      "application/vnd.databricks.v1+output": {
       "addedWidgets": {},
       "aggData": [],
       "aggError": "",
       "aggOverflow": false,
       "aggSchema": [],
       "aggSeriesLimitReached": false,
       "aggType": "",
       "arguments": {},
       "columnCustomDisplayInfos": {},
       "data": [
        [
         "abfss://rawdata@healthcareblob31dec.dfs.core.windows.net/Patient_records.csv",
         "Patient_records.csv",
         5110,
         1704010961000
        ],
        [
         "abfss://rawdata@healthcareblob31dec.dfs.core.windows.net/disease.csv",
         "disease.csv",
         1489,
         1704010960000
        ],
        [
         "abfss://rawdata@healthcareblob31dec.dfs.core.windows.net/group.csv",
         "group.csv",
         4390,
         1704010960000
        ],
        [
         "abfss://rawdata@healthcareblob31dec.dfs.core.windows.net/hospital.csv",
         "hospital.csv",
         1328,
         1704010960000
        ],
        [
         "abfss://rawdata@healthcareblob31dec.dfs.core.windows.net/subgroup.csv",
         "subgroup.csv",
         561,
         1704010960000
        ],
        [
         "abfss://rawdata@healthcareblob31dec.dfs.core.windows.net/subscriber.csv",
         "subscriber.csv",
         12061,
         1704010960000
        ]
       ],
       "datasetInfos": [],
       "dbfsResultPath": null,
       "isJsonSchema": true,
       "metadata": {},
       "overflow": false,
       "plotOptions": {
        "customPlotOptions": {},
        "displayType": "table",
        "pivotAggregation": null,
        "pivotColumns": null,
        "xColumns": null,
        "yColumns": null
       },
       "removedWidgets": [],
       "schema": [
        {
         "metadata": "{}",
         "name": "path",
         "type": "\"string\""
        },
        {
         "metadata": "{}",
         "name": "name",
         "type": "\"string\""
        },
        {
         "metadata": "{}",
         "name": "size",
         "type": "\"long\""
        },
        {
         "metadata": "{}",
         "name": "modificationTime",
         "type": "\"long\""
        }
       ],
       "type": "table"
      }
     },
     "output_type": "display_data"
    }
   ],
   "source": [
    "display(dbutils.fs.ls(\"abfss://rawdata@healthcareblob31dec.dfs.core.windows.net\"))"
   ]
  },
  {
   "cell_type": "code",
   "execution_count": 0,
   "metadata": {
    "application/vnd.databricks.v1+cell": {
     "cellMetadata": {
      "byteLimit": 2048000,
      "rowLimit": 10000
     },
     "inputWidgets": {},
     "nuid": "adb7df2c-b761-4543-9d4a-3e5704a73d48",
     "showTitle": false,
     "title": ""
    }
   },
   "outputs": [],
   "source": [
    "patient_data = spark.read.csv(\"abfss://rawdata@healthcareblob31dec.dfs.core.windows.net/Patient_records.csv\", header = True, inferSchema= True)"
   ]
  },
  {
   "cell_type": "code",
   "execution_count": 0,
   "metadata": {
    "application/vnd.databricks.v1+cell": {
     "cellMetadata": {
      "byteLimit": 2048000,
      "rowLimit": 10000
     },
     "inputWidgets": {},
     "nuid": "1f3e046a-19b4-4007-9f7a-64bc08de3632",
     "showTitle": false,
     "title": ""
    }
   },
   "outputs": [
    {
     "output_type": "stream",
     "name": "stdout",
     "output_type": "stream",
     "text": [
      "+----------+------------+--------------+------------------+--------------+----------------+------------+-----------+\n|Patient_id|Patient_name|patient_gender|patient_birth_date|patient_phone |disease_name    |city        |hospital_id|\n+----------+------------+--------------+------------------+--------------+----------------+------------+-----------+\n|187158    |Harbir      |Female        |1924-06-30        |+91 0112009318|Galactosemia    |Rourkela    |H1001      |\n|112766    |Brahmdev    |Female        |1948-12-20        |+91 1727749552|Bladder cancer  |Tiruvottiyur|H1016      |\n|199252    |Ujjawal     |Male          |1980-04-16        |+91 8547451606|Kidney cancer   |Berhampur   |H1009      |\n|133424    |Ballari     |Female        |1969-09-25        |+91 0106026841|Suicide         |Bihar Sharif|H1017      |\n|172579    |Devnath     |Female        |1946-05-01        |+91 1868774631|Food allergy    |Bidhannagar |H1019      |\n|171320    |Atasi       |Male          |1967-10-02        |+91 9747336855|Whiplash        |Amravati    |H1013      |\n|107794    |Manish      |Male          |1967-06-06        |+91 4354294043|Sunbathing      |Panvel      |H1004      |\n|130339    |Aakar       |Female        |1925-03-05        |+91 2777633911|Drug consumption|Bihar Sharif|H1000      |\n|110377    |Gurudas     |Male          |1945-05-06        |+91 1232859381|Dengue          |Kamarhati   |H1001      |\n|149367    |NULL        |Male          |1925-06-12        |+91 1780763280|Head banging    |Bangalore   |H1013      |\n+----------+------------+--------------+------------------+--------------+----------------+------------+-----------+\nonly showing top 10 rows\n\n"
     ]
    }
   ],
   "source": [
    "patient_data.show(10, False)"
   ]
  },
  {
   "cell_type": "code",
   "execution_count": 0,
   "metadata": {
    "application/vnd.databricks.v1+cell": {
     "cellMetadata": {
      "byteLimit": 2048000,
      "rowLimit": 10000
     },
     "inputWidgets": {},
     "nuid": "b1a4f725-8758-4f42-8024-9659a5f31adc",
     "showTitle": false,
     "title": ""
    }
   },
   "outputs": [
    {
     "output_type": "stream",
     "name": "stdout",
     "output_type": "stream",
     "text": [
      "root\n |-- Patient_id: integer (nullable = true)\n |-- Patient_name: string (nullable = true)\n |-- patient_gender: string (nullable = true)\n |-- patient_birth_date: date (nullable = true)\n |-- patient_phone: string (nullable = true)\n |-- disease_name: string (nullable = true)\n |-- city: string (nullable = true)\n |-- hospital_id: string (nullable = true)\n\n"
     ]
    }
   ],
   "source": [
    "patient_data.printSchema()"
   ]
  },
  {
   "cell_type": "code",
   "execution_count": 0,
   "metadata": {
    "application/vnd.databricks.v1+cell": {
     "cellMetadata": {
      "byteLimit": 2048000,
      "rowLimit": 10000
     },
     "inputWidgets": {},
     "nuid": "68768173-b359-4344-a6cd-36f6a97bc8c7",
     "showTitle": false,
     "title": ""
    }
   },
   "outputs": [],
   "source": [
    "patient_data = patient_data.select(\"Patient_id\", \"Patient_name\", \"patient_gender\", \"patient_birth_date\" ,\"disease_name\", \"city\", \"hospital_id\").distinct()"
   ]
  },
  {
   "cell_type": "code",
   "execution_count": 0,
   "metadata": {
    "application/vnd.databricks.v1+cell": {
     "cellMetadata": {
      "byteLimit": 2048000,
      "rowLimit": 10000
     },
     "inputWidgets": {},
     "nuid": "2ae13153-e4f5-4730-bbbd-3afdf0fd1c6a",
     "showTitle": false,
     "title": ""
    }
   },
   "outputs": [],
   "source": [
    "patient_data = patient_data.fillna({\"Patient_name\" : \"Guest/NA\"})"
   ]
  },
  {
   "cell_type": "code",
   "execution_count": 0,
   "metadata": {
    "application/vnd.databricks.v1+cell": {
     "cellMetadata": {
      "byteLimit": 2048000,
      "rowLimit": 10000
     },
     "inputWidgets": {},
     "nuid": "40fd9188-7bda-40f7-aed8-395fa04fadce",
     "showTitle": false,
     "title": ""
    }
   },
   "outputs": [],
   "source": [
    "#check for null values \n",
    "#patient_data.select([count(when(isnan(c) | col(c).isNull(), c)). alias(c) for c in patient_data.columns]).show()"
   ]
  },
  {
   "cell_type": "code",
   "execution_count": 0,
   "metadata": {
    "application/vnd.databricks.v1+cell": {
     "cellMetadata": {
      "byteLimit": 2048000,
      "rowLimit": 10000
     },
     "inputWidgets": {},
     "nuid": "bbcca898-c6a1-42b1-8737-83bd48e4a03a",
     "showTitle": false,
     "title": ""
    }
   },
   "outputs": [
    {
     "output_type": "stream",
     "name": "stdout",
     "output_type": "stream",
     "text": [
      "+----------+------------+--------------+------------------+----------------+--------------------+-----------+\n|Patient_id|Patient_name|patient_gender|patient_birth_date|    disease_name|                city|hospital_id|\n+----------+------------+--------------+------------------+----------------+--------------------+-----------+\n|    130339|       Aakar|        Female|        1925-03-05|Drug consumption|        Bihar Sharif|      H1000|\n|    167340|    Guest/NA|        Female|        1981-01-25|    Galactosemia|Surendranagar Dud...|      H1003|\n|    148137|       Umang|        Female|        1963-07-14|     Pet allergy|            Haridwar|      H1002|\n|    149367|    Guest/NA|          Male|        1925-06-12|    Head banging|           Bangalore|      H1013|\n|    146382|  Dharmadaas|          Male|        1964-04-29|         Anthrax|Bhalswa Jahangir Pur|      H1019|\n|    184479|      Bandhu|          Male|        1996-10-15|  Pollen allergy|           Chinsurah|      H1010|\n|    133424|     Ballari|        Female|        1969-09-25|         Suicide|        Bihar Sharif|      H1017|\n|    156168|    Guest/NA|          Male|        1976-02-03| Fanconi anaemia|              Rajkot|      H1004|\n|    187158|      Harbir|        Female|        1924-06-30|    Galactosemia|            Rourkela|      H1001|\n|    114241|    Guest/NA|        Female|        1955-01-22|   Breast cancer|           Ghaziabad|      H1015|\n|    135184|     Bhagvan|        Female|        1966-07-24|          Dengue|          Bhimavaram|      H1018|\n|    132870|    Guest/NA|        Female|        1924-11-09|        Glaucoma|            Jabalpur|      H1017|\n|    156988|  Bhagavaana|        Female|        1935-09-16|   Breast cancer|        Shahjahanpur|      H1012|\n|    110377|     Gurudas|          Male|        1945-05-06|          Dengue|           Kamarhati|      H1001|\n|    179662|   Amritkala|        Female|        1933-11-20|        Smallpox|              Meerut|      H1018|\n|    107794|      Manish|          Male|        1967-06-06|      Sunbathing|              Panvel|      H1004|\n|    199252|     Ujjawal|          Male|        1980-04-16|   Kidney cancer|           Berhampur|      H1009|\n|    132748|    Brahmvir|          Male|        1991-11-11| Cystic fibrosis|              Ambala|      H1018|\n|    172579|     Devnath|        Female|        1946-05-01|    Food allergy|         Bidhannagar|      H1019|\n|    171320|       Atasi|          Male|        1967-10-02|        Whiplash|            Amravati|      H1013|\n+----------+------------+--------------+------------------+----------------+--------------------+-----------+\nonly showing top 20 rows\n\n"
     ]
    }
   ],
   "source": [
    "patient_data.show(20)"
   ]
  },
  {
   "cell_type": "code",
   "execution_count": 0,
   "metadata": {
    "application/vnd.databricks.v1+cell": {
     "cellMetadata": {
      "byteLimit": 2048000,
      "rowLimit": 10000
     },
     "inputWidgets": {},
     "nuid": "5560bcdb-4755-4a29-8ab1-791198f6ca36",
     "showTitle": false,
     "title": ""
    }
   },
   "outputs": [],
   "source": [
    "patient_data = patient_data.withColumn(\"Patient_Age\", months_between (current_date(), col('patient_birth_date') )/12)"
   ]
  },
  {
   "cell_type": "code",
   "execution_count": 0,
   "metadata": {
    "application/vnd.databricks.v1+cell": {
     "cellMetadata": {
      "byteLimit": 2048000,
      "rowLimit": 10000
     },
     "inputWidgets": {},
     "nuid": "bb436340-c7a1-4adf-91eb-ce2d02be8a93",
     "showTitle": false,
     "title": ""
    }
   },
   "outputs": [],
   "source": [
    "patient_data = patient_data.withColumn(\"Patient_Age\", (months_between (current_date(), col('patient_birth_date') )/12).cast(\"int\"))"
   ]
  },
  {
   "cell_type": "code",
   "execution_count": 0,
   "metadata": {
    "application/vnd.databricks.v1+cell": {
     "cellMetadata": {
      "byteLimit": 2048000,
      "rowLimit": 10000
     },
     "inputWidgets": {},
     "nuid": "8fd135bd-d025-4002-92f2-8d66dbf97a88",
     "showTitle": false,
     "title": ""
    }
   },
   "outputs": [],
   "source": [
    "#patient_data.show(6)"
   ]
  },
  {
   "cell_type": "code",
   "execution_count": 0,
   "metadata": {
    "application/vnd.databricks.v1+cell": {
     "cellMetadata": {
      "byteLimit": 2048000,
      "rowLimit": 10000
     },
     "inputWidgets": {},
     "nuid": "65552a37-a2fe-41da-ab03-0f98a4c6043e",
     "showTitle": false,
     "title": ""
    }
   },
   "outputs": [],
   "source": [
    "patient_data = patient_data.drop(col(\"patient_birth_date\"))"
   ]
  },
  {
   "cell_type": "code",
   "execution_count": 0,
   "metadata": {
    "application/vnd.databricks.v1+cell": {
     "cellMetadata": {
      "byteLimit": 2048000,
      "rowLimit": 10000
     },
     "inputWidgets": {},
     "nuid": "a064a544-323f-409b-8f27-a613062c8578",
     "showTitle": false,
     "title": ""
    }
   },
   "outputs": [],
   "source": [
    "#patient_data.show(6)"
   ]
  },
  {
   "cell_type": "code",
   "execution_count": 0,
   "metadata": {
    "application/vnd.databricks.v1+cell": {
     "cellMetadata": {
      "byteLimit": 2048000,
      "rowLimit": 10000
     },
     "inputWidgets": {},
     "nuid": "1d60516a-b370-4051-98a1-2a32afa55d11",
     "showTitle": false,
     "title": ""
    }
   },
   "outputs": [
    {
     "output_type": "stream",
     "name": "stdout",
     "output_type": "stream",
     "text": [
      "+----------+------------+--------------+------------+----+-----------+-----------+-----+\n|Patient_id|Patient_name|patient_gender|disease_name|city|hospital_id|Patient_Age|count|\n+----------+------------+--------------+------------+----+-----------+-----------+-----+\n+----------+------------+--------------+------------+----+-----------+-----------+-----+\n\n"
     ]
    }
   ],
   "source": [
    "#check duplicates\n",
    "patient_data.groupby(patient_data.columns).count().where(\"count >1\").show()"
   ]
  },
  {
   "cell_type": "code",
   "execution_count": 0,
   "metadata": {
    "application/vnd.databricks.v1+cell": {
     "cellMetadata": {
      "byteLimit": 2048000,
      "rowLimit": 10000
     },
     "inputWidgets": {},
     "nuid": "b3b37494-0b63-486d-bb56-dba40d54fc0d",
     "showTitle": false,
     "title": ""
    }
   },
   "outputs": [],
   "source": [
    "# there may be no duplicates now but in future we may get duplicate values\n",
    "patient_data = patient_data.dropDuplicates()"
   ]
  },
  {
   "cell_type": "code",
   "execution_count": 0,
   "metadata": {
    "application/vnd.databricks.v1+cell": {
     "cellMetadata": {
      "byteLimit": 2048000,
      "rowLimit": 10000
     },
     "inputWidgets": {},
     "nuid": "23a9150b-cea0-498a-8c0e-d9256799bc73",
     "showTitle": false,
     "title": ""
    }
   },
   "outputs": [
    {
     "output_type": "execute_result",
     "data": {
      "text/plain": [
       "True"
      ]
     },
     "execution_count": 45,
     "metadata": {},
     "output_type": "execute_result"
    }
   ],
   "source": [
    "output_container_path = \"abfss://stagingdata@healthcareblob31dec.dfs.core.windows.net\"\n",
    "output_blob_folder = \"stagingdata/\"\n",
    "patient_data.coalesce(1).write.mode(\"overwrite\").option(\"header\" , \"true\"). format(\"com.databricks.spark.csv\").save(output_blob_folder)\n",
    "files = dbutils.fs.ls(output_blob_folder)\n",
    "outputfile = [x for x in files if x.name.startswith(\"part-\")]\n",
    "dbutils.fs.mv(outputfile[0].path, \"%s/patient_data_stage.csv\"% output_container_path)"
   ]
  },
  {
   "cell_type": "code",
   "execution_count": 0,
   "metadata": {
    "application/vnd.databricks.v1+cell": {
     "cellMetadata": {},
     "inputWidgets": {},
     "nuid": "de21f349-8a7b-4848-8299-9480a21f738d",
     "showTitle": false,
     "title": ""
    }
   },
   "outputs": [],
   "source": []
  }
 ],
 "metadata": {
  "application/vnd.databricks.v1+notebook": {
   "dashboards": [],
   "language": "python",
   "notebookMetadata": {
    "pythonIndentUnit": 4
   },
   "notebookName": "patient -healthcare project",
   "widgets": {}
  }
 },
 "nbformat": 4,
 "nbformat_minor": 0
}
